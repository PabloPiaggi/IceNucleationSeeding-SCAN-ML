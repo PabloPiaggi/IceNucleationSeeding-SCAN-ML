{
 "cells": [
  {
   "cell_type": "markdown",
   "metadata": {},
   "source": [
    "## Homogeneous ice nucleation in an ab initio machine learning model of water\n",
    "### Pablo M. Piaggi, Jack Weis, Athanassios Z. Panagiotopoulos, Pablo G. Debenedetti, and Roberto Car"
   ]
  },
  {
   "cell_type": "code",
   "execution_count": 1,
   "metadata": {},
   "outputs": [],
   "source": [
    "import MDAnalysis\n",
    "import freud\n",
    "import matplotlib.pyplot as plt\n",
    "import numpy as np\n",
    "from scipy.optimize import curve_fit\n",
    "from scipy.stats import linregress\n",
    "from scipy.interpolate import interp1d, CubicSpline, LSQUnivariateSpline, UnivariateSpline, splev, splrep"
   ]
  },
  {
   "cell_type": "code",
   "execution_count": 2,
   "metadata": {},
   "outputs": [],
   "source": [
    "font = {'family' : 'serif',\n",
    "        'serif'   : 'palatino',\n",
    "        #'sans-serif'    : 'Computer Modern Sans serif', \n",
    "        'style'   : 'normal',\n",
    "        'variant'   : 'normal',\n",
    "        'stretch'   : 'normal',\n",
    "        'weight'   : 'normal',\n",
    "        'size'   : 20}\n",
    "plt.rc('font', **font)\n",
    "plt.rc('text', usetex=True)\n",
    "plt.rcParams['figure.figsize'] = (3*3.25, 3*2)\n",
    "\n",
    "colors = plt.rcParams['axes.prop_cycle'].by_key()['color']"
   ]
  },
  {
   "cell_type": "markdown",
   "metadata": {},
   "source": [
    "## Bulk distributions"
   ]
  },
  {
   "cell_type": "code",
   "execution_count": 3,
   "metadata": {},
   "outputs": [],
   "source": [
    "temps=np.array([260,270,280,290,300,310])\n",
    "num_bins=100\n",
    "hist_ice=np.zeros([num_bins,temps.shape[0]])\n",
    "bin_centers_ice=np.zeros([num_bins,temps.shape[0]])\n",
    "for i in range(temps.shape[0]):\n",
    "    q6ice=np.zeros([0,])\n",
    "    ql = freud.order.Steinhardt(l=6,average=True)\n",
    "    reader = MDAnalysis.coordinates.LAMMPS.DumpReader(\"Bulk/IceIh/\" + str(temps[i]) + \"K/dump.water\")\n",
    "    step=1\n",
    "    n_frames=sum(1 for e in reader[::step])\n",
    "    counter=0\n",
    "    for frame in reader[::step]:\n",
    "        ts = MDAnalysis.coordinates.base.Timestep(frame.positions[::3,:].shape[0])\n",
    "        ts.positions=frame.positions[::3,:]\n",
    "        ts.dimensions=frame.dimensions\n",
    "        ql.compute(ts, {'r_max':3.5}) #,reset=False)\n",
    "        q6ice=np.insert(q6ice,0,ql.ql)\n",
    "    hist_ice[:,i], bin_edges = np.histogram(q6ice,range=(0.,0.6),bins=100,density=True)\n",
    "    bin_centers_ice[:,i]=(bin_edges[1:]+bin_edges[:-1])/2"
   ]
  },
  {
   "cell_type": "code",
   "execution_count": 4,
   "metadata": {},
   "outputs": [
    {
     "name": "stderr",
     "output_type": "stream",
     "text": [
      "/usr/licensed/anaconda3/2020.7/lib/python3.8/site-packages/numpy/lib/histograms.py:839: RuntimeWarning: invalid value encountered in greater_equal\n",
      "  keep = (tmp_a >= first_edge)\n",
      "/usr/licensed/anaconda3/2020.7/lib/python3.8/site-packages/numpy/lib/histograms.py:840: RuntimeWarning: invalid value encountered in less_equal\n",
      "  keep &= (tmp_a <= last_edge)\n"
     ]
    }
   ],
   "source": [
    "steps_temps=np.array([10,10,10,1,1,1])\n",
    "num_bins=100\n",
    "hist_liquid=np.zeros([num_bins,temps.shape[0]])\n",
    "bin_centers_liquid=np.zeros([num_bins,temps.shape[0]])\n",
    "for i in range(temps.shape[0]):\n",
    "    q6liquid=np.zeros([0,])\n",
    "    ql = freud.order.Steinhardt(l=6,average=True)\n",
    "    reader = MDAnalysis.coordinates.LAMMPS.DumpReader(\"Bulk/Liquid/\" + str(temps[i]) + \"K/dump.water\")\n",
    "    step=steps_temps[i]\n",
    "    n_frames=sum(1 for e in reader[::step])\n",
    "    counter=0\n",
    "    for frame in reader[::step]:\n",
    "        ts = MDAnalysis.coordinates.base.Timestep(frame.positions[::3,:].shape[0])\n",
    "        ts.positions=frame.positions[::3,:]\n",
    "        ts.dimensions=frame.dimensions\n",
    "        ql.compute(ts, {'r_max':3.5}) #,reset=False)\n",
    "        q6liquid=np.insert(q6liquid,0,ql.ql)\n",
    "    hist_liquid[:,i], bin_edges = np.histogram(q6liquid,range=(0.,0.6),bins=100,density=True)\n",
    "    bin_centers_liquid[:,i]=(bin_edges[1:]+bin_edges[:-1])/2"
   ]
  },
  {
   "cell_type": "code",
   "execution_count": 5,
   "metadata": {},
   "outputs": [
    {
     "name": "stdout",
     "output_type": "stream",
     "text": [
      "260 0.41700000000000004\n",
      "270 0.405\n",
      "280 0.399\n",
      "290 0.387\n",
      "300 0.381\n",
      "310 0.375\n"
     ]
    },
    {
     "data": {
      "image/png": "[encoded data removed]",
      "text/plain": [
       "<Figure size 234x216 with 6 Axes>"
      ]
     },
     "metadata": {
      "needs_background": "light"
     },
     "output_type": "display_data"
    }
   ],
   "source": [
    "font = {'family' : 'serif',\n",
    "        'serif'   : 'palatino',\n",
    "        #'sans-serif'    : 'Computer Modern Sans serif', \n",
    "        'style'   : 'normal',\n",
    "        'variant'   : 'normal',\n",
    "        'stretch'   : 'normal',\n",
    "        'weight'   : 'normal',\n",
    "        'size'   : 9}\n",
    "plt.rc('font', **font)\n",
    "plt.rc('text', usetex=True)\n",
    "plt.rcParams['figure.figsize'] = (3.25, 3)\n",
    "\n",
    "fig, axs = plt.subplots(6,sharex=True,sharey=True)\n",
    "axs[0].set_xlim([0.1,0.6])\n",
    "axs[0].set_ylim([0,25])\n",
    "axs[0].text(0.28,16,\"Liquid\",color=colors[0],va='center',ha='center')\n",
    "axs[0].text(0.455,16,\"Ice Ih\",color=colors[1],va='center',ha='center')\n",
    "for i in range(temps.shape[0]):\n",
    "    axs[i].plot(bin_centers_ice[:,i],hist_ice[:,i],color=colors[1],linewidth=1)\n",
    "    axs[i].fill_between(bin_centers_ice[:,i],0,hist_ice[:,i],color=colors[1],linewidth=0,alpha=0.2)\n",
    "    axs[i].plot(bin_centers_liquid[:,i],hist_liquid[:,i],color=colors[0],linewidth=1)\n",
    "    axs[i].fill_between(bin_centers_liquid[:,i],0,hist_liquid[:,i],color=colors[0],linewidth=0,alpha=0.2)\n",
    "    axs[i].text(0.15,17,str(temps[i]) + \" K\",va='center',ha='center')\n",
    "    loc=bin_centers_liquid[25+np.argmin(np.abs(hist_ice[25:75,i]-hist_liquid[25:75,i])),i]\n",
    "    axs[i].plot([loc,loc],[0,25],'--',color='black',alpha=0.75,linewidth=0.75)\n",
    "    print(temps[i],loc)\n",
    "plt.subplots_adjust(hspace=0.4)\n",
    "axs[5].set_xlabel(r\"$\\overline{q}_6$\")\n",
    "axs[3].set_ylabel(\"Probability density\")\n",
    "axs[3].yaxis.set_label_coords(-0.1,1.1)\n",
    "axs[5].text(0.1,-25,\"a)\",va='center',ha='center')\n",
    "\n",
    "#plt.savefig(\"q6_distrib.png\",dpi=300,bbox_inches='tight')  # publication quality\n",
    "\n",
    "plt.show()"
   ]
  },
  {
   "cell_type": "code",
   "execution_count": 6,
   "metadata": {},
   "outputs": [
    {
     "data": {
      "image/png": "[encoded data removed]",
      "text/plain": [
       "<Figure size 234x216 with 6 Axes>"
      ]
     },
     "metadata": {
      "needs_background": "light"
     },
     "output_type": "display_data"
    }
   ],
   "source": [
    "fig, axs = plt.subplots(6,sharex=True,sharey=True)\n",
    "plt.yscale('log')\n",
    "axs[0].set_xlim([0.1,0.6])\n",
    "axs[0].set_ylim([0.01,100])\n",
    "axs[0].text(0.28,0.1,\"Liquid\",color=colors[0],va='center',ha='center')\n",
    "axs[0].text(0.5,0.1,\"Ice Ih\",color=colors[1],va='center',ha='center')\n",
    "for i in range(temps.shape[0]):\n",
    "    axs[i].plot(bin_centers_ice[:,i],hist_ice[:,i],color=colors[1],linewidth=2)\n",
    "    axs[i].fill_between(bin_centers_ice[:,i],0,hist_ice[:,i],color=colors[1],linewidth=0,alpha=0.2)\n",
    "    axs[i].plot(bin_centers_liquid[:,i],hist_liquid[:,i],color=colors[0],linewidth=2)\n",
    "    axs[i].fill_between(bin_centers_liquid[:,i],0,hist_liquid[:,i],color=colors[0],linewidth=0,alpha=0.2)\n",
    "    axs[i].text(0.13,7.5,str(temps[i]) + \" K\",va='center',ha='center')\n",
    "    loc=bin_centers_liquid[25+np.argmin(np.abs(hist_ice[25:75,i]-hist_liquid[25:75,i])),i]\n",
    "    axs[i].plot([loc,loc],[0,100],'--',color='black',alpha=0.75)\n",
    "    #print(temps[i],loc)\n",
    "plt.subplots_adjust(hspace=0.4)\n",
    "axs[5].set_xlabel(r\"$\\overline{q}_6$\")\n",
    "axs[3].set_ylabel(\"Probability density\")\n",
    "axs[3].yaxis.set_label_coords(-0.095,1.1)\n",
    "plt.show()"
   ]
  },
  {
   "cell_type": "code",
   "execution_count": 7,
   "metadata": {},
   "outputs": [],
   "source": [
    "threshold_temps=np.zeros(temps.shape[0])\n",
    "for i in range(temps.shape[0]):\n",
    "    threshold_temps[i]=bin_centers_liquid[25+np.argmin(np.abs(hist_ice[25:75,i]-hist_liquid[25:75,i])),i]"
   ]
  },
  {
   "cell_type": "code",
   "execution_count": 8,
   "metadata": {},
   "outputs": [
    {
     "name": "stdout",
     "output_type": "stream",
     "text": [
      "[-0.00084  0.6334 ]\n"
     ]
    },
    {
     "data": {
      "image/png": "[encoded data removed]",
      "text/plain": [
       "<Figure size 234x216 with 1 Axes>"
      ]
     },
     "metadata": {
      "needs_background": "light"
     },
     "output_type": "display_data"
    }
   ],
   "source": [
    "font = {'family' : 'serif',\n",
    "        'serif'   : 'palatino',\n",
    "        #'sans-serif'    : 'Computer Modern Sans serif', \n",
    "        'style'   : 'normal',\n",
    "        'variant'   : 'normal',\n",
    "        'stretch'   : 'normal',\n",
    "        'weight'   : 'normal',\n",
    "        'size'   : 9}\n",
    "plt.rc('font', **font)\n",
    "plt.rc('text', usetex=True)\n",
    "plt.rcParams['figure.figsize'] = (3.25, 3)\n",
    "\n",
    "temps=np.array([260,270,280,290,300,310])\n",
    "plt.scatter(temps,threshold_temps)\n",
    "\n",
    "def func_threshold(x,a,b):\n",
    "    return a*x+b\n",
    "\n",
    "popt_threshold, pcov_threshold = curve_fit(func_threshold, temps,threshold_temps)\n",
    "print(popt_threshold)\n",
    "x=np.linspace(250,320,10)\n",
    "\n",
    "plt.plot(x,func_threshold(x,*popt_threshold))\n",
    "plt.xlabel(\"Temperature (K)\")\n",
    "plt.ylabel(\"Threshold\")\n",
    "plt.xlim([255,315])\n",
    "plt.text(255,0.3525,\"b)\",ha='center',va='center')\n",
    "\n",
    "#plt.savefig(\"q6_threshold.png\",dpi=300,bbox_inches='tight')  # publication quality\n",
    "\n",
    "plt.show()"
   ]
  },
  {
   "cell_type": "code",
   "execution_count": 9,
   "metadata": {},
   "outputs": [
    {
     "data": {
      "image/png": "[encoded data removed]",
      "text/plain": [
       "<Figure size 234x144 with 1 Axes>"
      ]
     },
     "metadata": {
      "needs_background": "light"
     },
     "output_type": "display_data"
    }
   ],
   "source": [
    "font = {'family' : 'serif',\n",
    "        'serif'   : 'palatino',\n",
    "        #'sans-serif'    : 'Computer Modern Sans serif', \n",
    "        'style'   : 'normal',\n",
    "        'variant'   : 'normal',\n",
    "        'stretch'   : 'normal',\n",
    "        'weight'   : 'normal',\n",
    "        'size'   : 9}\n",
    "plt.rc('font', **font)\n",
    "plt.rc('text', usetex=True)\n",
    "plt.rcParams['figure.figsize'] = (3.25, 2)\n",
    "\n",
    "overlap=np.zeros(temps.shape[0])\n",
    "for i in range(temps.shape[0]):\n",
    "    overlap[i]=np.trapz(np.minimum(hist_ice[:,i],hist_liquid[:,i]),x=bin_centers_ice[:,i])\n",
    "\n",
    "plt.scatter(temps,overlap)\n",
    "plt.plot([312-45,312-45],[0.005,0.02],'--',color='black',alpha=0.75)\n",
    "\n",
    "plt.xlabel(\"Temperature (K)\")\n",
    "plt.ylabel(\"Overlap between distributions\")\n",
    "plt.ylim([0.006,0.018])\n",
    "plt.text(265.5,0.012,\"Widom line crossing\",rotation=90,va='center',ha='center',alpha=0.75)\n",
    "\n",
    "#plt.savefig(\"q6_overlap.png\",dpi=300,bbox_inches='tight')  # publication quality\n",
    "\n",
    "plt.show()"
   ]
  },
  {
   "cell_type": "code",
   "execution_count": null,
   "metadata": {},
   "outputs": [],
   "source": []
  }
 ],
 "metadata": {
  "kernelspec": {
   "display_name": "Python 3",
   "language": "python",
   "name": "python3"
  },
  "language_info": {
   "codemirror_mode": {
    "name": "ipython",
    "version": 3
   },
   "file_extension": ".py",
   "mimetype": "text/x-python",
   "name": "python",
   "nbconvert_exporter": "python",
   "pygments_lexer": "ipython3",
   "version": "3.8.3"
  }
 },
 "nbformat": 4,
 "nbformat_minor": 4
}
