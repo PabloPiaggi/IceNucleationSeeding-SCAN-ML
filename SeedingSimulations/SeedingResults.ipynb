{
 "cells": [
  {
   "cell_type": "markdown",
   "metadata": {},
   "source": [
    "## Homogeneous ice nucleation in an ab initio machine learning model of water\n",
    "### Pablo M. Piaggi, Jack Weis, Athanassios Z. Panagiotopoulos, Pablo G. Debenedetti, and Roberto Car"
   ]
  },
  {
   "cell_type": "code",
   "execution_count": 1,
   "metadata": {},
   "outputs": [],
   "source": [
    "import MDAnalysis\n",
    "import freud\n",
    "import matplotlib.pyplot as plt\n",
    "import numpy as np\n",
    "from scipy.optimize import curve_fit\n",
    "from scipy.stats import linregress\n",
    "from scipy.interpolate import interp1d, CubicSpline, LSQUnivariateSpline, UnivariateSpline, splev, splrep"
   ]
  },
  {
   "cell_type": "code",
   "execution_count": 2,
   "metadata": {},
   "outputs": [],
   "source": [
    "font = {'family' : 'serif',\n",
    "        'serif'   : 'palatino',\n",
    "        #'sans-serif'    : 'Computer Modern Sans serif', \n",
    "        'style'   : 'normal',\n",
    "        'variant'   : 'normal',\n",
    "        'stretch'   : 'normal',\n",
    "        'weight'   : 'normal',\n",
    "        'size'   : 20}\n",
    "plt.rc('font', **font)\n",
    "plt.rc('text', usetex=True)\n",
    "plt.rcParams['figure.figsize'] = (3*3.25, 3*2)\n",
    "\n",
    "colors = plt.rcParams['axes.prop_cycle'].by_key()['color']"
   ]
  },
  {
   "cell_type": "markdown",
   "metadata": {},
   "source": [
    "## Compute largest cluster size"
   ]
  },
  {
   "cell_type": "code",
   "execution_count": 3,
   "metadata": {},
   "outputs": [],
   "source": [
    "def func_threshold(x,a,b):\n",
    "    return a*x+b\n",
    "\n",
    "popt_threshold=np.array([-0.00084,0.6334]) # This was calculated based on data of bulk simulations\n",
    "\n",
    "def computeLargestClusterSize(filename,step,temperature):\n",
    "    # Find threshold for this temperature (in K)\n",
    "    threshold=func_threshold(temperature,*popt_threshold)\n",
    "    print(threshold)\n",
    "    ql = freud.order.Steinhardt(l=6,average=True)\n",
    "    reader = MDAnalysis.coordinates.LAMMPS.DumpReader(filename)\n",
    "    n_frames=sum(1 for e in reader[::step])\n",
    "    n_solid_molecules=np.zeros(n_frames)\n",
    "    n_solid_molecules_clust=np.zeros(n_frames)\n",
    "    counter=0\n",
    "    for frame in reader[::step]:\n",
    "        ts = MDAnalysis.coordinates.base.Timestep(frame.positions[::3,:].shape[0])\n",
    "        ts.positions=frame.positions[::3,:]\n",
    "        ts.dimensions=frame.dimensions\n",
    "        ql.compute(ts, {'r_max':3.5}) #,reset=False)\n",
    "        n_solid_molecules[counter]=ql.ql[ql.ql>threshold].shape[0]\n",
    "        if (ts.positions[ql.ql>threshold,:].shape[0]>0):\n",
    "            ts2 = MDAnalysis.coordinates.base.Timestep(ts.positions[ql.ql>threshold,:].shape[0])\n",
    "            ts2.positions=ts.positions[ql.ql>threshold,:]\n",
    "            ts2.dimensions=ts.dimensions\n",
    "            cl = freud.cluster.Cluster()\n",
    "            cl_props = freud.cluster.ClusterProperties()\n",
    "            cl.compute(ts2, neighbors={'r_max': 3.5})\n",
    "            props = cl_props.compute(ts2, cl.cluster_idx)\n",
    "            n_solid_molecules_clust[counter]=cl_props.sizes[0]\n",
    "        else:\n",
    "            n_solid_molecules_clust[counter]=0\n",
    "        counter += 1\n",
    "    return n_solid_molecules,n_solid_molecules_clust"
   ]
  },
  {
   "cell_type": "markdown",
   "metadata": {},
   "source": [
    "## Cluster size ~200"
   ]
  },
  {
   "cell_type": "code",
   "execution_count": 5,
   "metadata": {},
   "outputs": [
    {
     "name": "stdout",
     "output_type": "stream",
     "text": [
      "0.41919999999999996\n",
      "0.4149999999999999\n",
      "0.41079999999999994\n",
      "0.4024\n"
     ]
    }
   ],
   "source": [
    "step=100\n",
    "n_solid_molecules200_255, n_solid_molecules200_255_clust = computeLargestClusterSize('cluster200molecules/255K/dump.water',step,255)\n",
    "n_solid_molecules200_260, n_solid_molecules200_260_clust = computeLargestClusterSize('cluster200molecules/260K/dump.water',step,260)\n",
    "n_solid_molecules200_265, n_solid_molecules200_265_clust = computeLargestClusterSize('cluster200molecules/265K/dump.water',step,265)\n",
    "n_solid_molecules200_275, n_solid_molecules200_275_clust = computeLargestClusterSize('cluster200molecules/275K/dump.water',step,275)"
   ]
  },
  {
   "cell_type": "code",
   "execution_count": 6,
   "metadata": {},
   "outputs": [],
   "source": [
    "np.save('n_solid_molecules200_255_clust.npy', n_solid_molecules200_255_clust)\n",
    "np.save('n_solid_molecules200_260_clust.npy', n_solid_molecules200_260_clust)\n",
    "np.save('n_solid_molecules200_265_clust.npy', n_solid_molecules200_265_clust)\n",
    "np.save('n_solid_molecules200_275_clust.npy', n_solid_molecules200_275_clust)"
   ]
  },
  {
   "cell_type": "code",
   "execution_count": 7,
   "metadata": {},
   "outputs": [],
   "source": [
    "# If already calculated, the results can be read using this cell\n",
    "step=100\n",
    "n_solid_molecules200_255_clust = np.load('n_solid_molecules200_255_clust.npy')\n",
    "n_solid_molecules200_260_clust = np.load('n_solid_molecules200_260_clust.npy')\n",
    "n_solid_molecules200_265_clust = np.load('n_solid_molecules200_265_clust.npy')\n",
    "n_solid_molecules200_275_clust = np.load('n_solid_molecules200_275_clust.npy')"
   ]
  },
  {
   "cell_type": "code",
   "execution_count": 8,
   "metadata": {},
   "outputs": [
    {
     "name": "stdout",
     "output_type": "stream",
     "text": [
      "191.3\n",
      "189.7\n"
     ]
    }
   ],
   "source": [
    "print(np.mean(n_solid_molecules200_255_clust[:20]))\n",
    "print(np.mean(n_solid_molecules200_260_clust[:20]))"
   ]
  },
  {
   "cell_type": "markdown",
   "metadata": {},
   "source": [
    "Thus, the initial mean cluster size is ~190 molecules"
   ]
  },
  {
   "cell_type": "code",
   "execution_count": 21,
   "metadata": {},
   "outputs": [
    {
     "data": {
      "image/png": "[encoded data removed]",
      "text/plain": [
       "<Figure size 234x144 with 1 Axes>"
      ]
     },
     "metadata": {
      "needs_background": "light"
     },
     "output_type": "display_data"
    }
   ],
   "source": [
    "font = {'family' : 'serif',\n",
    "        'serif'   : 'palatino',\n",
    "        #'sans-serif'    : 'Computer Modern Sans serif', \n",
    "        'style'   : 'normal',\n",
    "        'variant'   : 'normal',\n",
    "        'stretch'   : 'normal',\n",
    "        'weight'   : 'normal',\n",
    "        'size'   : 9}\n",
    "plt.rc('font', **font)\n",
    "plt.rc('text', usetex=True)\n",
    "plt.rcParams['figure.figsize'] = (3.25, 2)\n",
    "\n",
    "colors = plt.rcParams['axes.prop_cycle'].by_key()['color']\n",
    "\n",
    "fig, axs = plt.subplots(1,1)\n",
    "\n",
    "\n",
    "colors2 = plt.cm.jet(np.linspace(0,1,4))\n",
    "mylinewidth=1\n",
    "step=100\n",
    "timestep=0.0000005\n",
    "step_dump=1000\n",
    "\n",
    "n_frames=n_solid_molecules200_275_clust.shape[0]\n",
    "plt.plot(step*step_dump*timestep*np.linspace(0,n_frames-1,n_frames),n_solid_molecules200_275_clust,label=\"275 K\",linewidth=mylinewidth,color=colors2[3])\n",
    "n_frames=n_solid_molecules200_265_clust.shape[0]\n",
    "plt.plot(step*step_dump*timestep*np.linspace(0,n_frames-1,n_frames),n_solid_molecules200_265_clust,label=\"265 K\",linewidth=mylinewidth,color=colors2[2])\n",
    "n_frames=n_solid_molecules200_260_clust.shape[0]\n",
    "plt.plot(step*step_dump*timestep*np.linspace(0,n_frames-1,n_frames),n_solid_molecules200_260_clust,label=\"260 K\",linewidth=mylinewidth,color=colors2[1])\n",
    "n_frames=n_solid_molecules200_255_clust.shape[0]\n",
    "plt.plot(step*step_dump*timestep*np.linspace(0,n_frames-1,n_frames),n_solid_molecules200_255_clust,label=\"255 K\",linewidth=mylinewidth,color=colors2[0])\n",
    "\n",
    "plt.xlabel(\"Time (ns)\")\n",
    "plt.ylabel(\"\\# of ice-like molecules\")\n",
    "plt.legend(frameon=False,fontsize=8,ncol=2)\n",
    "plt.xlim([0,20])\n",
    "plt.ylim([0,300])\n",
    "plt.plot([0,20],[190,190],'--',alpha=0.75,linewidth=1,color='black')\n",
    "\n",
    "#plt.savefig(\"plot_cluster200.png\",dpi=300,bbox_inches='tight')  # publication quality\n",
    "plt.show()"
   ]
  },
  {
   "cell_type": "markdown",
   "metadata": {},
   "source": [
    "## Cluster size ~700"
   ]
  },
  {
   "cell_type": "code",
   "execution_count": 11,
   "metadata": {},
   "outputs": [
    {
     "name": "stdout",
     "output_type": "stream",
     "text": [
      "0.4024\n",
      "0.4015599999999999\n",
      "0.40071999999999997\n",
      "0.39987999999999996\n",
      "0.39903999999999995\n",
      "0.39819999999999994\n",
      "0.39735999999999994\n",
      "0.39652\n",
      "0.3956799999999999\n",
      "0.39483999999999997\n",
      "0.39399999999999996\n",
      "0.39315999999999995\n"
     ]
    }
   ],
   "source": [
    "step=10\n",
    "n_solid_molecules600_275, n_solid_molecules600_275_clust = computeLargestClusterSize('cluster600molecules/275-280K/dump.water.0',step,275)\n",
    "n_solid_molecules600_276, n_solid_molecules600_276_clust = computeLargestClusterSize('cluster600molecules/275-280K/dump.water.1',step,276)\n",
    "n_solid_molecules600_277, n_solid_molecules600_277_clust = computeLargestClusterSize('cluster600molecules/275-280K/dump.water.2',step,277)\n",
    "n_solid_molecules600_278, n_solid_molecules600_278_clust = computeLargestClusterSize('cluster600molecules/275-280K/dump.water.3',step,278)\n",
    "n_solid_molecules600_279, n_solid_molecules600_279_clust = computeLargestClusterSize('cluster600molecules/275-280K/dump.water.4',step,279)\n",
    "n_solid_molecules600_280, n_solid_molecules600_280_clust = computeLargestClusterSize('cluster600molecules/275-280K/dump.water.5',step,280)\n",
    "n_solid_molecules600_281, n_solid_molecules600_281_clust = computeLargestClusterSize('cluster600molecules/281-286K/dump.water.0',step,281)\n",
    "n_solid_molecules600_282, n_solid_molecules600_282_clust = computeLargestClusterSize('cluster600molecules/281-286K/dump.water.1',step,282)\n",
    "n_solid_molecules600_283, n_solid_molecules600_283_clust = computeLargestClusterSize('cluster600molecules/281-286K/dump.water.2',step,283)\n",
    "n_solid_molecules600_284, n_solid_molecules600_284_clust = computeLargestClusterSize('cluster600molecules/281-286K/dump.water.3',step,284)\n",
    "n_solid_molecules600_285, n_solid_molecules600_285_clust = computeLargestClusterSize('cluster600molecules/281-286K/dump.water.4',step,285)\n",
    "n_solid_molecules600_286, n_solid_molecules600_286_clust = computeLargestClusterSize('cluster600molecules/281-286K/dump.water.5',step,286)"
   ]
  },
  {
   "cell_type": "code",
   "execution_count": 12,
   "metadata": {},
   "outputs": [],
   "source": [
    "np.save('n_solid_molecules600_275_clust.npy', n_solid_molecules600_275_clust)\n",
    "np.save('n_solid_molecules600_276_clust.npy', n_solid_molecules600_276_clust)\n",
    "np.save('n_solid_molecules600_277_clust.npy', n_solid_molecules600_277_clust)\n",
    "np.save('n_solid_molecules600_278_clust.npy', n_solid_molecules600_278_clust)\n",
    "np.save('n_solid_molecules600_279_clust.npy', n_solid_molecules600_279_clust)\n",
    "np.save('n_solid_molecules600_280_clust.npy', n_solid_molecules600_280_clust)\n",
    "np.save('n_solid_molecules600_281_clust.npy', n_solid_molecules600_281_clust)\n",
    "np.save('n_solid_molecules600_282_clust.npy', n_solid_molecules600_282_clust)\n",
    "np.save('n_solid_molecules600_283_clust.npy', n_solid_molecules600_283_clust)\n",
    "np.save('n_solid_molecules600_284_clust.npy', n_solid_molecules600_284_clust)\n",
    "np.save('n_solid_molecules600_285_clust.npy', n_solid_molecules600_285_clust)\n",
    "np.save('n_solid_molecules600_286_clust.npy', n_solid_molecules600_286_clust)"
   ]
  },
  {
   "cell_type": "code",
   "execution_count": 13,
   "metadata": {},
   "outputs": [],
   "source": [
    "# If already calculated, the results can be read using this cell\n",
    "step=10\n",
    "n_solid_molecules600_275_clust = np.load('n_solid_molecules600_275_clust.npy')\n",
    "n_solid_molecules600_276_clust = np.load('n_solid_molecules600_276_clust.npy')\n",
    "n_solid_molecules600_277_clust = np.load('n_solid_molecules600_277_clust.npy')\n",
    "n_solid_molecules600_278_clust = np.load('n_solid_molecules600_278_clust.npy')\n",
    "n_solid_molecules600_279_clust = np.load('n_solid_molecules600_279_clust.npy')\n",
    "n_solid_molecules600_280_clust = np.load('n_solid_molecules600_280_clust.npy')\n",
    "n_solid_molecules600_281_clust = np.load('n_solid_molecules600_281_clust.npy')\n",
    "n_solid_molecules600_282_clust = np.load('n_solid_molecules600_282_clust.npy')\n",
    "n_solid_molecules600_283_clust = np.load('n_solid_molecules600_283_clust.npy')\n",
    "n_solid_molecules600_284_clust = np.load('n_solid_molecules600_284_clust.npy')\n",
    "n_solid_molecules600_285_clust = np.load('n_solid_molecules600_285_clust.npy')\n",
    "n_solid_molecules600_286_clust = np.load('n_solid_molecules600_286_clust.npy')"
   ]
  },
  {
   "cell_type": "code",
   "execution_count": 14,
   "metadata": {},
   "outputs": [
    {
     "name": "stdout",
     "output_type": "stream",
     "text": [
      "669.1\n",
      "675.4\n",
      "686.6\n",
      "683.1\n",
      "677.0\n",
      "703.0\n",
      "686.5\n",
      "676.5\n",
      "697.8\n",
      "689.5\n",
      "711.9\n",
      "696.6\n",
      "687.75\n"
     ]
    }
   ],
   "source": [
    "print(np.mean(n_solid_molecules600_275_clust[:10]))\n",
    "print(np.mean(n_solid_molecules600_276_clust[:10]))\n",
    "print(np.mean(n_solid_molecules600_277_clust[:10]))\n",
    "print(np.mean(n_solid_molecules600_278_clust[:10]))\n",
    "print(np.mean(n_solid_molecules600_279_clust[:10]))\n",
    "print(np.mean(n_solid_molecules600_280_clust[:10]))\n",
    "print(np.mean(n_solid_molecules600_281_clust[:10]))\n",
    "print(np.mean(n_solid_molecules600_282_clust[:10]))\n",
    "print(np.mean(n_solid_molecules600_283_clust[:10]))\n",
    "print(np.mean(n_solid_molecules600_284_clust[:10]))\n",
    "print(np.mean(n_solid_molecules600_285_clust[:10]))\n",
    "print(np.mean(n_solid_molecules600_286_clust[:10]))\n",
    "print(np.mean([669.1,675.4,686.6,683.1,677.0,703.0,686.5,676.5,697.8,689.5,711.9,696.6]))"
   ]
  },
  {
   "cell_type": "markdown",
   "metadata": {},
   "source": [
    "Thus, the initial mean cluster size is ~690 molecules"
   ]
  },
  {
   "cell_type": "code",
   "execution_count": 19,
   "metadata": {},
   "outputs": [
    {
     "data": {
      "image/png": "[encoded data removed]",
      "text/plain": [
       "<Figure size 234x144 with 1 Axes>"
      ]
     },
     "metadata": {
      "needs_background": "light"
     },
     "output_type": "display_data"
    }
   ],
   "source": [
    "font = {'family' : 'serif',\n",
    "        'serif'   : 'palatino',\n",
    "        #'sans-serif'    : 'Computer Modern Sans serif', \n",
    "        'style'   : 'normal',\n",
    "        'variant'   : 'normal',\n",
    "        'stretch'   : 'normal',\n",
    "        'weight'   : 'normal',\n",
    "        'size'   : 9}\n",
    "plt.rc('font', **font)\n",
    "plt.rc('text', usetex=True)\n",
    "plt.rcParams['figure.figsize'] = (3.25, 2)\n",
    "\n",
    "colors = plt.rcParams['axes.prop_cycle'].by_key()['color']\n",
    "n=12\n",
    "colors2 = plt.cm.jet(np.linspace(0,1,n))\n",
    "\n",
    "fig, axs = plt.subplots(1,1)\n",
    "\n",
    "timestep=0.0000005\n",
    "step=10\n",
    "step_dump=10000\n",
    "temps=np.arange(275,287,1)\n",
    "for i in range(temps.shape[0]):\n",
    "    n_solid_molecules = np.load('n_solid_molecules600_' + str(temps[i]) + '_clust.npy')\n",
    "    n_frames=n_solid_molecules.shape[0]\n",
    "    plt.plot(step*step_dump*timestep*np.linspace(0,n_frames-1,n_frames),n_solid_molecules,label=str(temps[i]) + \" K\",linewidth=1,color=colors2[i])\n",
    "\n",
    "plt.plot([0,15],[688,688],'--',alpha=0.75,linewidth=1,color='black')\n",
    "\n",
    "plt.xlabel(\"Time (ns)\")\n",
    "plt.ylabel(\"\\# of ice-like molecules\")\n",
    "plt.legend(ncol=2,fontsize=8,bbox_to_anchor=(1, 1), loc='upper left')\n",
    "plt.ylim([0,1500])\n",
    "plt.xlim([0,15])\n",
    "#plt.savefig(\"plot_cluster600.png\",dpi=300,bbox_inches='tight')  # publication quality\n",
    "plt.show()"
   ]
  },
  {
   "cell_type": "code",
   "execution_count": 18,
   "metadata": {},
   "outputs": [
    {
     "data": {
      "image/png": "[encoded data removed]",
      "text/plain": [
       "<Figure size 702x432 with 1 Axes>"
      ]
     },
     "metadata": {
      "needs_background": "light"
     },
     "output_type": "display_data"
    }
   ],
   "source": [
    "font = {'family' : 'serif',\n",
    "        'serif'   : 'palatino',\n",
    "        #'sans-serif'    : 'Computer Modern Sans serif', \n",
    "        'style'   : 'normal',\n",
    "        'variant'   : 'normal',\n",
    "        'stretch'   : 'normal',\n",
    "        'weight'   : 'normal',\n",
    "        'size'   : 20}\n",
    "plt.rc('font', **font)\n",
    "plt.rc('text', usetex=True)\n",
    "plt.rcParams['figure.figsize'] = (3*3.25, 3*2)\n",
    "\n",
    "colors = plt.rcParams['axes.prop_cycle'].by_key()['color']\n",
    "\n",
    "fig, axs = plt.subplots(1,1)\n",
    "\n",
    "def func(x,a):\n",
    "    b=680\n",
    "    return a*x+b\n",
    "\n",
    "temps=np.arange(275,287,1)\n",
    "for i in range(temps.shape[0]):\n",
    "    n_solid_molecules = np.load('n_solid_molecules600_' + str(temps[i]) + '_clust.npy')\n",
    "    plt.scatter(temps[i],n_solid_molecules[-1],s=80)\n",
    "\n",
    "plt.xlim([274,287])\n",
    "plt.plot([274,287],[688,688],'--',alpha=0.75,linewidth=1,color='black')\n",
    "plt.plot([280,280],[0,1600],':',alpha=0.75,linewidth=1,color='black')\n",
    "plt.plot([284,284],[0,1600],':',alpha=0.75,linewidth=1,color='black')\n",
    "plt.ylim([0,1600])\n",
    "plt.xlabel(\"Temperature (K)\")\n",
    "plt.ylabel(\"\\# of ice-like molecules/ns\")\n",
    "\n",
    "plt.show()"
   ]
  },
  {
   "cell_type": "markdown",
   "metadata": {},
   "source": [
    "Based on the figure above, the highest temperature at which the crystal grows systematically is 280 K. The lowest temperature at which the crystal melts systematically is 284 K. Therefore the temperature at which the cluster is critical is 282 +- 2 K."
   ]
  },
  {
   "cell_type": "markdown",
   "metadata": {},
   "source": [
    "## Cluster size 5000"
   ]
  },
  {
   "cell_type": "code",
   "execution_count": 34,
   "metadata": {},
   "outputs": [
    {
     "name": "stdout",
     "output_type": "stream",
     "text": [
      "0.38559999999999994\n"
     ]
    }
   ],
   "source": [
    "step=10\n",
    "n_solid_molecules5000_292, n_solid_molecules5000_292_clust = computeLargestClusterSize('cluster5000molecules/292K/dump.water',step,292)\n",
    "n_solid_molecules5000_293, n_solid_molecules5000_293_clust = computeLargestClusterSize('cluster5000molecules/293K/dump.water',step,293)\n",
    "n_solid_molecules5000_294, n_solid_molecules5000_294_clust = computeLargestClusterSize('cluster5000molecules/294K/dump.water',step,294)\n",
    "n_solid_molecules5000_295, n_solid_molecules5000_295_clust = computeLargestClusterSize('cluster5000molecules/295K/dump.water',step,295)\n",
    "n_solid_molecules5000_296, n_solid_molecules5000_296_clust = computeLargestClusterSize('cluster5000molecules/296K/dump.water',step,296)"
   ]
  },
  {
   "cell_type": "code",
   "execution_count": 35,
   "metadata": {},
   "outputs": [],
   "source": [
    "np.save('n_solid_molecules5000_292_clust.npy', n_solid_molecules5000_292_clust)\n",
    "np.save('n_solid_molecules5000_293_clust.npy', n_solid_molecules5000_293_clust)\n",
    "np.save('n_solid_molecules5000_294_clust.npy', n_solid_molecules5000_294_clust)\n",
    "np.save('n_solid_molecules5000_295_clust.npy', n_solid_molecules5000_295_clust)\n",
    "np.save('n_solid_molecules5000_296_clust.npy', n_solid_molecules5000_296_clust)"
   ]
  },
  {
   "cell_type": "code",
   "execution_count": 24,
   "metadata": {},
   "outputs": [
    {
     "name": "stdout",
     "output_type": "stream",
     "text": [
      "0.3897999999999999\n"
     ]
    },
    {
     "name": "stderr",
     "output_type": "stream",
     "text": [
      "<ipython-input-3-95e814767fe4>:21: RuntimeWarning: invalid value encountered in greater\n",
      "  n_solid_molecules[counter]=ql.ql[ql.ql>threshold].shape[0]\n",
      "<ipython-input-3-95e814767fe4>:22: RuntimeWarning: invalid value encountered in greater\n",
      "  if (ts.positions[ql.ql>threshold,:].shape[0]>0):\n",
      "<ipython-input-3-95e814767fe4>:23: RuntimeWarning: invalid value encountered in greater\n",
      "  ts2 = MDAnalysis.coordinates.base.Timestep(ts.positions[ql.ql>threshold,:].shape[0])\n",
      "<ipython-input-3-95e814767fe4>:24: RuntimeWarning: invalid value encountered in greater\n",
      "  ts2.positions=ts.positions[ql.ql>threshold,:]\n"
     ]
    },
    {
     "name": "stdout",
     "output_type": "stream",
     "text": [
      "0.38896\n",
      "0.38559999999999994\n",
      "0.38476\n"
     ]
    }
   ],
   "source": [
    "# These simulations had slightly different settings\n",
    "step=10\n",
    "n_solid_molecules5000_290, n_solid_molecules5000_290_clust = computeLargestClusterSize('cluster5000molecules/290K/dump.water',step,290)\n",
    "n_solid_molecules5000_291, n_solid_molecules5000_291_clust = computeLargestClusterSize('cluster5000molecules/291K/dump.water',step,291)\n",
    "n_solid_molecules5000_295_2, n_solid_molecules5000_295_2_clust = computeLargestClusterSize('cluster5000molecules/295K_2/dump.water',step,295)"
   ]
  },
  {
   "cell_type": "code",
   "execution_count": 28,
   "metadata": {},
   "outputs": [],
   "source": [
    "np.save('n_solid_molecules5000_290_clust.npy', n_solid_molecules5000_290_clust)\n",
    "np.save('n_solid_molecules5000_291_clust.npy', n_solid_molecules5000_291_clust)\n",
    "np.save('n_solid_molecules5000_295_2_clust.npy', n_solid_molecules5000_295_2_clust)\n",
    "np.save('n_solid_molecules5000_296_clust.npy', n_solid_molecules5000_296_clust)"
   ]
  },
  {
   "cell_type": "code",
   "execution_count": 36,
   "metadata": {},
   "outputs": [],
   "source": [
    "# If already calculated, the results can be read using this cell\n",
    "step=10\n",
    "n_solid_molecules5000_292_clust = np.load('n_solid_molecules5000_292_clust.npy')\n",
    "n_solid_molecules5000_293_clust = np.load('n_solid_molecules5000_293_clust.npy')\n",
    "n_solid_molecules5000_294_clust = np.load('n_solid_molecules5000_294_clust.npy')\n",
    "n_solid_molecules5000_295_clust = np.load('n_solid_molecules5000_295_clust.npy')\n",
    "n_solid_molecules5000_296_clust = np.load('n_solid_molecules5000_296_clust.npy')"
   ]
  },
  {
   "cell_type": "code",
   "execution_count": 37,
   "metadata": {},
   "outputs": [],
   "source": [
    "# If already calculated, the results can be read using this cell\n",
    "step=10\n",
    "n_solid_molecules5000_290_clust = np.load('n_solid_molecules5000_290_clust.npy')\n",
    "n_solid_molecules5000_291_clust = np.load('n_solid_molecules5000_291_clust.npy')\n",
    "n_solid_molecules5000_295_2_clust = np.load('n_solid_molecules5000_295_2_clust.npy')"
   ]
  },
  {
   "cell_type": "code",
   "execution_count": 38,
   "metadata": {},
   "outputs": [
    {
     "name": "stdout",
     "output_type": "stream",
     "text": [
      "4691.5\n",
      "4703.1\n",
      "4646.7\n",
      "4680.2\n",
      "4657.5\n"
     ]
    },
    {
     "data": {
      "text/plain": [
       "4675.8"
      ]
     },
     "execution_count": 38,
     "metadata": {},
     "output_type": "execute_result"
    }
   ],
   "source": [
    "samples=10\n",
    "print(np.mean(n_solid_molecules5000_292_clust[:samples]))\n",
    "print(np.mean(n_solid_molecules5000_293_clust[:samples]))\n",
    "print(np.mean(n_solid_molecules5000_294_clust[:samples]))\n",
    "print(np.mean(n_solid_molecules5000_295_clust[:samples]))\n",
    "print(np.mean(n_solid_molecules5000_296_clust[:samples]))\n",
    "np.mean([4691.5,4703.1,4646.7,4680.2,4657.5])"
   ]
  },
  {
   "cell_type": "markdown",
   "metadata": {},
   "source": [
    "Thus, the initial mean cluster size is ~4675 molecules"
   ]
  },
  {
   "cell_type": "code",
   "execution_count": 41,
   "metadata": {},
   "outputs": [
    {
     "data": {
      "image/png": "[encoded data removed]",
      "text/plain": [
       "<Figure size 234x144 with 1 Axes>"
      ]
     },
     "metadata": {
      "needs_background": "light"
     },
     "output_type": "display_data"
    }
   ],
   "source": [
    "font = {'family' : 'serif',\n",
    "        'serif'   : 'palatino',\n",
    "        #'sans-serif'    : 'Computer Modern Sans serif', \n",
    "        'style'   : 'normal',\n",
    "        'variant'   : 'normal',\n",
    "        'stretch'   : 'normal',\n",
    "        'weight'   : 'normal',\n",
    "        'size'   : 9}\n",
    "plt.rc('font', **font)\n",
    "plt.rc('text', usetex=True)\n",
    "plt.rcParams['figure.figsize'] = (3.25, 2)\n",
    "\n",
    "colors = plt.rcParams['axes.prop_cycle'].by_key()['color']\n",
    "\n",
    "fig, axs = plt.subplots(1,1)\n",
    "\n",
    "colors2 = plt.cm.jet(np.linspace(0,1,7))\n",
    "mylinewidth=1.5\n",
    "timestep=0.0000005\n",
    "step=10\n",
    "step_dump=10000\n",
    "step_dump_2=20000 # For the simulations with different settings\n",
    "\n",
    "n_frames=n_solid_molecules5000_290_clust.shape[0]\n",
    "plt.plot(step*step_dump_2*timestep*np.linspace(0,n_frames-1,n_frames),n_solid_molecules5000_290_clust,label=\"290 K\",linewidth=mylinewidth,color=colors2[0],alpha=0.75)\n",
    "n_frames=n_solid_molecules5000_291_clust.shape[0]\n",
    "plt.plot(step*step_dump_2*timestep*np.linspace(0,n_frames-1,n_frames),n_solid_molecules5000_291_clust,label=\"291 K\",linewidth=mylinewidth,color=colors2[1],alpha=0.75)\n",
    "n_frames=n_solid_molecules5000_292_clust.shape[0]\n",
    "plt.plot(step*step_dump*timestep*np.linspace(0,n_frames-1,n_frames),n_solid_molecules5000_292_clust,label=\"292 K\",linewidth=mylinewidth,color=colors2[2],alpha=0.75)\n",
    "n_frames=n_solid_molecules5000_293_clust.shape[0]\n",
    "plt.plot(step*step_dump*timestep*np.linspace(0,n_frames-1,n_frames),n_solid_molecules5000_293_clust,label=\"293 K\",linewidth=mylinewidth,color=colors2[3],alpha=0.75)\n",
    "n_frames=n_solid_molecules5000_294_clust.shape[0]\n",
    "plt.plot(step*step_dump*timestep*np.linspace(0,n_frames-1,n_frames),n_solid_molecules5000_294_clust,label=\"294 K\",linewidth=mylinewidth,color=colors2[4],alpha=0.75)\n",
    "n_frames=n_solid_molecules5000_295_clust.shape[0]\n",
    "plt.plot(step*step_dump*timestep*np.linspace(0,n_frames-1,n_frames),n_solid_molecules5000_295_clust,label=\"295 K\",linewidth=mylinewidth,color=colors2[5],alpha=0.75)\n",
    "n_frames=n_solid_molecules5000_295_2_clust.shape[0]\n",
    "plt.plot(step*step_dump_2*timestep*np.linspace(0,n_frames-1,n_frames),n_solid_molecules5000_295_2_clust,label=\"295 K\",linewidth=mylinewidth,color=colors2[5],alpha=0.75)\n",
    "n_frames=n_solid_molecules5000_296_clust.shape[0]\n",
    "plt.plot(step*step_dump*timestep*np.linspace(0,n_frames-1,n_frames),n_solid_molecules5000_296_clust,label=\"296 K\",linewidth=mylinewidth,color=colors2[6],alpha=0.75)\n",
    "\n",
    "plt.plot([0,10],[4676,4676],'--',alpha=0.75,linewidth=1,color='black')\n",
    "plt.xlabel(\"Time (ns)\")\n",
    "plt.ylabel(\"\\# of ice-like molecules\")\n",
    "plt.legend(frameon=False,ncol=2,fontsize=8)\n",
    "plt.xlim([0,10])\n",
    "plt.ylim([0,6000])\n",
    "\n",
    "#plt.savefig(\"plot_cluster5000.png\",dpi=300,bbox_inches='tight')  # publication quality\n",
    "\n",
    "plt.show()"
   ]
  },
  {
   "cell_type": "code",
   "execution_count": null,
   "metadata": {},
   "outputs": [],
   "source": []
  }
 ],
 "metadata": {
  "kernelspec": {
   "display_name": "Python 3",
   "language": "python",
   "name": "python3"
  },
  "language_info": {
   "codemirror_mode": {
    "name": "ipython",
    "version": 3
   },
   "file_extension": ".py",
   "mimetype": "text/x-python",
   "name": "python",
   "nbconvert_exporter": "python",
   "pygments_lexer": "ipython3",
   "version": "3.8.3"
  }
 },
 "nbformat": 4,
 "nbformat_minor": 4
}
